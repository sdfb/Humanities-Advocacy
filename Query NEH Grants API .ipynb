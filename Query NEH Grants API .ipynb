{
 "cells": [
  {
   "cell_type": "code",
   "execution_count": 28,
   "metadata": {
    "collapsed": false,
    "deletable": true,
    "editable": true
   },
   "outputs": [],
   "source": [
    "import json\n",
    "from requests import get\n",
    "from bs4 import BeautifulSoup\n",
    "  "
   ]
  },
  {
   "cell_type": "code",
   "execution_count": 32,
   "metadata": {
    "collapsed": false,
    "deletable": true,
    "editable": true
   },
   "outputs": [
    {
     "name": "stdout",
     "output_type": "stream",
     "text": [
      "Benjamin Franklin's Last Bet: How a Founding Father's Daring Philanthropy Reshaped the American Will Michael  MeyerUniversity of Pittsburgh (Pittsburgh, PA 15260-6133)\n",
      "\n",
      "Thinking Out Loud @ Alphabet City City of Asylum Pittsburgh (Pittsburgh, PA 15212-4440)Ralph Henry Reese (Project Director: April 2016 to present)\n",
      "\n",
      "Evaluating Digital Platforms for an Immersive Ancient Egyptian Experience Carnegie Institute (Pittsburgh, PA 15213-4007)Erin Peters (Project Director: June 2016 to present)\n",
      "\n",
      "World-Historical Gazetteer University of Pittsburgh (Pittsburgh, PA 15260-6133)Patrick Manning (Project Director: September 2013 to present)Ruth Mostern (Co Project Director: September 2013 to present)\n",
      "\n",
      "Text in Situ: Reasoning about Visual Information in the Computational Analysis of Books Carnegie Mellon University (Pittsburgh, PA 15213-3890)Taylor Berg-Kirkpatrick (Project Director: January 2017 to present)David Bamman (Co Project Director: May 2017 to present)\n",
      "\n",
      "Supporting Cultural Heritage Research in Historic Photography Archives with Machine Learning and Computer Vision Carnegie Mellon University (Pittsburgh, PA 15213-3890)Golan Levin (Project Director: January 2017 to present)David Newbury (Co Project Director: July 2017 to present)\n",
      "\n",
      "Six Degrees of Francis Bacon: Reassembling the Early Modern Social Network Carnegie Mellon University (Pittsburgh, PA 15213-3890)Christopher Warren (Project Director: February 2016 to present)\n",
      "\n",
      "Make your edition: models and methods for digital textual scholarship University of Pittsburgh (Pittsburgh, PA 15260-6133)David J. Birnbaum (Project Director: March 2016 to present)\n",
      "\n",
      "Sustaining MedArt: The Impact of Socio-Technical Factors on Digital Preservation Strategies University of Pittsburgh (Pittsburgh, PA 15260-6133)Alison Langmead (Project Director: June 2015 to present)\n",
      "\n",
      "Art Tracks: Standardizing Digital Provenance Documentation for Cultural Objects Carnegie Institute (Pittsburgh, PA 15213-4007)Neil Kulas (Project Director: June 2015 to August 2016)Katie Reilly (Project Director: August 2016 to July 2017)Sarah Minnaert (Project Director: July 2017 to present)\n",
      "\n",
      "LangBank: Digital Infrastructure to Support the Study of Classical Latin and Historical German Carnegie Mellon University (Pittsburgh, PA 15213-3890)Brian James MacWhinney (Project Director: September 2014 to present)\n",
      "\n",
      "Captive Nations: American Democracy in the Cold War and the Politics of Rescue Andreea Deciu RitivoiCarnegie Mellon University (Pittsburgh, PA 15213-3890)\n",
      "\n",
      "Prioritizing, Planning, Preserving: Managing Problematic Storage for Oversized Collections Historical Society of Western Pennsylvania (Pittsburgh, PA 15222-4208)Matthew Strauss (Project Director: May 2013 to present)\n",
      "\n",
      "Concept and Virtuality in 15th-Century Music Emily  ZazuliaUniversity of Pittsburgh (Pittsburgh, PA 15260-6133)\n",
      "\n",
      "East European Studies in America: An NEH Bridging Cultures Project University of Pittsburgh (Pittsburgh, PA 15260-6133)Robert M. Hayden (Project Director: August 2013 to July 2014)Andrew Konitzer (Project Director: July 2014 to July 2016)Dawn Seckler (Project Director: July 2016 to present)\n",
      "\n",
      "Carnegie Museum of Natural History Sustainable Anthropology Collection Storage Improvement Carnegie Institute (Pittsburgh, PA 15213-4007)Sandra Lynn Olsen (Project Director: December 2013 to May 2014)Gretchen Anderson (Project Director: May 2014 to present)\n",
      "\n",
      "Voices Across Time: Teaching American History Through Song University of Pittsburgh (Pittsburgh, PA 15260-6133)Deane L. Root (Project Director: March 2010 to present)Mariana Whitmer (Co Project Director: March 2010 to present)\n",
      "\n",
      "America's Music: A Film History of Our Music from Blues to Bluegrass to Broadway Hill House Association (Pittsburgh, PA 15219-4305)Terri Baltimore (Project Director: March 2012 to present)\n",
      "\n",
      "Modernism, U.S. Cultural Diplomacy, and European Leftist Intellectuals during the Cold War Gregory Peter BarnhiselDuquesne University (Pittsburgh, PA 15282-0001)\n",
      "\n",
      "The Charles Harris Archivist Endowment Carnegie Institute (Pittsburgh, PA 15213-4007)Louise W. Lippincott (Project Director: May 2012 to present)\n",
      "\n",
      "Anthropology Collection Storage Improvement and Sustainability Planning for the Carnegie Museum of Natural History Carnegie Institute (Pittsburgh, PA 15213-4007)Sandra Lynn Olsen (Project Director: December 2011 to present)\n",
      "\n",
      "The Hamburg Dramaturgy by G.E. Lessing: A New and Complete Annotated English Translation Carnegie Mellon University (Pittsburgh, PA 15213-3890)Wendy Arons (Project Director: December 2011 to present)\n",
      "\n",
      "August Wilson: The Ground On Which I Stand WQED Multimedia (Pittsburgh, PA 15213-2942)Darryl Ford Williams (Project Director: January 2012 to present)\n",
      "\n",
      "I Hear America Singing University of Pittsburgh (Pittsburgh, PA 15260-6133)Deane L. Root (Project Director: March 2012 to present)\n",
      "\n",
      "The Bullet in the Book: Uses of Print Media during the Civil War Ronald John ZborayUniversity of Pittsburgh (Pittsburgh, PA 15260-6133)\n",
      "\n",
      "Journey to Normal: Women of War Come Home Pittsburgh Filmmakers, Inc. (Pittsburgh, PA 15213-1135)JulieHera DeStefano (Project Director: August 2011 to present)\n",
      "\n",
      "Medieval Theologian Master Gratian and the Development of Penitential Thought and Law, c.1120-1215 Atria A. LarsonUnaffiliated Independent Scholar\n",
      "\n",
      "Atomic Thought: Early Modern Philosophy and the History of Matter Daniel Jeremy SelcerDuquesne University (Pittsburgh, PA 15282-0001)\n",
      "\n",
      "The Stranger Ethos in American Political Discourse Andreea Deciu RitivoiCarnegie Mellon University (Pittsburgh, PA 15213-3890)\n",
      "\n",
      "Mattress Factory Archive Storage Project Mattress Factory (Pittsburgh, PA 15212-4444)Michael Olijnyk (Project Director: May 2010 to present)\n",
      "\n",
      "Regional Disaster Supplies for the Pittsburgh Alliance for Response Pennsylvania Academic Library Consortium, Inc. (Pittsburgh, PA 15208-2577)John Howard Barnett (Project Director: May 2010 to May 2011)Tracie J. Ballock (Project Director: May 2011 to present)\n",
      "\n",
      "Teenie Harris, Photographer: An American Story Carnegie Institute (Pittsburgh, PA 15213-4007)Louise W. Lippincott (Project Director: August 2010 to present)\n",
      "\n",
      "\"Sweet France\" and the Jews Kirsten Anne FudemanUniversity of Pittsburgh (Pittsburgh, PA 15260-6133)\n",
      "\n",
      "The Rural Awakening: The Village Improvement Movement in 20th-Century Vermont Diane M. ShawCarnegie Mellon University (Pittsburgh, PA 15213-3890)\n",
      "\n",
      "Language Revitalization and Neoliberalism: Language Workers and Economic Ideologies of Gaelic in Scotland Emily McEwan-FujitaUniversity of Pittsburgh (Pittsburgh, PA 15260-6133)\n",
      "\n",
      "The Collected Works of Rudolf Carnap, Phase II Carnegie Mellon University (Pittsburgh, PA 15213-3890)Steven M. Awodey (Project Director: November 2009 to present)\n",
      "\n"
     ]
    }
   ],
   "source": [
    "\n",
    "\n",
    "state = 'PA'  ## enter two-letter state abbreviation\n",
    "district = '14'  ## enter congressional district\n",
    "url = 'https://securegrants.neh.gov/publicquery/main.aspx?q=1&a=0&n=0&o=0&ot=0&k=0&f=0&s=1&sv={0}&cd=1&cdv={1}&p=0&d=0&y=1&yf=2010&yt=2018&prd=0&cov=0&prz=0&wp=0&ob=year&or=DESC'.format(state, district)\n",
    "\n",
    "## For all congressional districts in the state, use the following url ## \n",
    "\n",
    "# url = 'https://securegrants.neh.gov/publicquery/main.aspx?q=1&a=0&n=0&o=0&ot=0&k=0&f=0&s=1&sv={0}&cd=1&p=0&d=0&y=1&yf=2010&yt=2018&prd=0&cov=0&prz=0&wp=0&ob=year&or=DESC'.format(state)\n",
    "\n",
    "response = get(url)\n",
    "grants = response.text\n",
    "soup = BeautifulSoup(grants, 'html.parser')\n",
    "grantees = soup.find_all(\"span\", class_=\"largeplain\")\n",
    "titles = soup.find_all(\"span\", class_=\"largeitalic\")\n",
    "grantees_list = []\n",
    "titles_list = []\n",
    "\n",
    "for g in grantees:\n",
    "    grantees_list.append(g.get_text())\n",
    "for t in titles:\n",
    "    titles_list.append(t.get_text())\n",
    "length = len(grantees_list)\n",
    "grants = {}\n",
    "for i in range(0,length):\n",
    "    grants[titles_list[i]] = grantees_list[i]\n",
    "for key, value in grants.items():\n",
    "    print(key, value+'\\n')"
   ]
  },
  {
   "cell_type": "code",
   "execution_count": null,
   "metadata": {
    "collapsed": true,
    "deletable": true,
    "editable": true
   },
   "outputs": [],
   "source": []
  }
 ],
 "metadata": {
  "kernelspec": {
   "display_name": "Python 3",
   "language": "python",
   "name": "python3"
  },
  "language_info": {
   "codemirror_mode": {
    "name": "ipython",
    "version": 3
   },
   "file_extension": ".py",
   "mimetype": "text/x-python",
   "name": "python",
   "nbconvert_exporter": "python",
   "pygments_lexer": "ipython3",
   "version": "3.6.1"
  }
 },
 "nbformat": 4,
 "nbformat_minor": 2
}
